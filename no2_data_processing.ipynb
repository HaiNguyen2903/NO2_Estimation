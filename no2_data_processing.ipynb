{
  "nbformat": 4,
  "nbformat_minor": 0,
  "metadata": {
    "colab": {
      "name": "no2_data_processing.ipynb",
      "provenance": []
    },
    "kernelspec": {
      "name": "python3",
      "display_name": "Python 3"
    },
    "language_info": {
      "name": "python"
    }
  },
  "cells": [
    {
      "cell_type": "markdown",
      "metadata": {
        "id": "A3SGjxjfa5A7"
      },
      "source": [
        "# Import necessary libaries"
      ]
    },
    {
      "cell_type": "code",
      "metadata": {
        "colab": {
          "base_uri": "https://localhost:8080/"
        },
        "id": "0lIxLcBK5XkU",
        "outputId": "6fa6e87a-884d-41a9-f22f-311d6002f20a"
      },
      "source": [
        "!pip install kneed\n",
        "\n",
        "from sklearn.cluster import KMeans\n",
        "from sklearn import metrics\n",
        "from scipy.spatial.distance import cdist\n",
        "import numpy as np\n",
        "import seaborn as sns\n",
        "import matplotlib.pyplot as plt\n",
        "import pandas as pd\n",
        "\n",
        "from sklearn.pipeline import Pipeline\n",
        "from sklearn.preprocessing import OneHotEncoder\n",
        "from sklearn.preprocessing import LabelEncoder\n",
        "\n",
        "from kneed import KneeLocator\n",
        "from sklearn.datasets import make_blobs\n",
        "from sklearn.metrics import silhouette_score\n",
        "from sklearn.preprocessing import StandardScaler\n",
        "\n",
        "from sklearn.ensemble import ExtraTreesClassifier\n",
        "from sklearn.feature_selection import SelectKBest\n",
        "from sklearn.feature_selection import chi2\n",
        "from sklearn.preprocessing import MinMaxScaler\n",
        "\n",
        "from yellowbrick.cluster import KElbowVisualizer\n",
        "\n",
        "import os"
      ],
      "execution_count": 1,
      "outputs": [
        {
          "output_type": "stream",
          "text": [
            "Collecting kneed\n",
            "  Downloading https://files.pythonhosted.org/packages/c3/6b/e130913aaaad1373060e259ab222ca2330672db696b297b082c3f3089fcc/kneed-0.7.0-py2.py3-none-any.whl\n",
            "Requirement already satisfied: numpy>=1.14.2 in /usr/local/lib/python3.7/dist-packages (from kneed) (1.19.5)\n",
            "Requirement already satisfied: scipy in /usr/local/lib/python3.7/dist-packages (from kneed) (1.4.1)\n",
            "Requirement already satisfied: matplotlib in /usr/local/lib/python3.7/dist-packages (from kneed) (3.2.2)\n",
            "Requirement already satisfied: pyparsing!=2.0.4,!=2.1.2,!=2.1.6,>=2.0.1 in /usr/local/lib/python3.7/dist-packages (from matplotlib->kneed) (2.4.7)\n",
            "Requirement already satisfied: python-dateutil>=2.1 in /usr/local/lib/python3.7/dist-packages (from matplotlib->kneed) (2.8.1)\n",
            "Requirement already satisfied: kiwisolver>=1.0.1 in /usr/local/lib/python3.7/dist-packages (from matplotlib->kneed) (1.3.1)\n",
            "Requirement already satisfied: cycler>=0.10 in /usr/local/lib/python3.7/dist-packages (from matplotlib->kneed) (0.10.0)\n",
            "Requirement already satisfied: six>=1.5 in /usr/local/lib/python3.7/dist-packages (from python-dateutil>=2.1->matplotlib->kneed) (1.15.0)\n",
            "Installing collected packages: kneed\n",
            "Successfully installed kneed-0.7.0\n"
          ],
          "name": "stdout"
        },
        {
          "output_type": "stream",
          "text": [
            "/usr/local/lib/python3.7/dist-packages/sklearn/utils/deprecation.py:144: FutureWarning: The sklearn.metrics.classification module is  deprecated in version 0.22 and will be removed in version 0.24. The corresponding classes / functions should instead be imported from sklearn.metrics. Anything that cannot be imported from sklearn.metrics is now part of the private API.\n",
            "  warnings.warn(message, FutureWarning)\n"
          ],
          "name": "stderr"
        }
      ]
    },
    {
      "cell_type": "code",
      "metadata": {
        "colab": {
          "base_uri": "https://localhost:8080/"
        },
        "id": "d7Wg-Kxh5lLf",
        "outputId": "12e7b1f1-f699-4aa3-f2ab-531752aec323"
      },
      "source": [
        "from google.colab import drive\n",
        "drive.mount('/content/drive')"
      ],
      "execution_count": 2,
      "outputs": [
        {
          "output_type": "stream",
          "text": [
            "Mounted at /content/drive\n"
          ],
          "name": "stdout"
        }
      ]
    },
    {
      "cell_type": "markdown",
      "metadata": {
        "id": "z4u4orf-QvV5"
      },
      "source": [
        "# Preprocessing Original Data"
      ]
    },
    {
      "cell_type": "markdown",
      "metadata": {
        "id": "-GqaOvkFbEv7"
      },
      "source": [
        "## Reading original data"
      ]
    },
    {
      "cell_type": "code",
      "metadata": {
        "colab": {
          "base_uri": "https://localhost:8080/",
          "height": 439
        },
        "id": "RSl4IiwM5n83",
        "outputId": "f52e3d5f-255b-41d8-d2ce-824d9a456d33"
      },
      "source": [
        "data_folder = '/content/drive/MyDrive/STUDYING/HK2 2020-2021/Modern Problems in Technology/'\n",
        "\n",
        "original_data = 'no2_stations.csv'\n",
        "\n",
        "data.drop('Unnamed: 18', axis='columns', inplace = True)\n",
        "data"
      ],
      "execution_count": 4,
      "outputs": [
        {
          "output_type": "execute_result",
          "data": {
            "text/html": [
              "<div>\n",
              "<style scoped>\n",
              "    .dataframe tbody tr th:only-of-type {\n",
              "        vertical-align: middle;\n",
              "    }\n",
              "\n",
              "    .dataframe tbody tr th {\n",
              "        vertical-align: top;\n",
              "    }\n",
              "\n",
              "    .dataframe thead th {\n",
              "        text-align: right;\n",
              "    }\n",
              "</style>\n",
              "<table border=\"1\" class=\"dataframe\">\n",
              "  <thead>\n",
              "    <tr style=\"text-align: right;\">\n",
              "      <th></th>\n",
              "      <th>time</th>\n",
              "      <th>lat</th>\n",
              "      <th>lon</th>\n",
              "      <th>NO2</th>\n",
              "      <th>name</th>\n",
              "      <th>pblh</th>\n",
              "      <th>press</th>\n",
              "      <th>rh</th>\n",
              "      <th>tmp</th>\n",
              "      <th>wspd</th>\n",
              "      <th>dpt_00</th>\n",
              "      <th>dpt_06</th>\n",
              "      <th>dpt_12</th>\n",
              "      <th>dpt_18</th>\n",
              "      <th>ndvi</th>\n",
              "      <th>pplt_dens</th>\n",
              "      <th>road_dens</th>\n",
              "      <th>omi_no2</th>\n",
              "    </tr>\n",
              "  </thead>\n",
              "  <tbody>\n",
              "    <tr>\n",
              "      <th>0</th>\n",
              "      <td>1/1/2019</td>\n",
              "      <td>21.0491</td>\n",
              "      <td>105.8831</td>\n",
              "      <td>0.000000</td>\n",
              "      <td>NVC</td>\n",
              "      <td>391.864014</td>\n",
              "      <td>102794.0</td>\n",
              "      <td>66.589302</td>\n",
              "      <td>11.087100</td>\n",
              "      <td>4.69022</td>\n",
              "      <td>5.980500</td>\n",
              "      <td>5.019875</td>\n",
              "      <td>4.711437</td>\n",
              "      <td>4.758125</td>\n",
              "      <td>0.134988</td>\n",
              "      <td>27.722601</td>\n",
              "      <td>1828.880005</td>\n",
              "      <td>0.000000</td>\n",
              "    </tr>\n",
              "    <tr>\n",
              "      <th>1</th>\n",
              "      <td>1/2/2019</td>\n",
              "      <td>21.0491</td>\n",
              "      <td>105.8831</td>\n",
              "      <td>0.000000</td>\n",
              "      <td>NVC</td>\n",
              "      <td>558.942993</td>\n",
              "      <td>102699.0</td>\n",
              "      <td>65.773903</td>\n",
              "      <td>12.090000</td>\n",
              "      <td>3.59040</td>\n",
              "      <td>2.657062</td>\n",
              "      <td>4.092187</td>\n",
              "      <td>8.700875</td>\n",
              "      <td>7.603187</td>\n",
              "      <td>0.000000</td>\n",
              "      <td>27.722601</td>\n",
              "      <td>1828.880005</td>\n",
              "      <td>0.000000</td>\n",
              "    </tr>\n",
              "    <tr>\n",
              "      <th>2</th>\n",
              "      <td>1/3/2019</td>\n",
              "      <td>21.0491</td>\n",
              "      <td>105.8831</td>\n",
              "      <td>41.310400</td>\n",
              "      <td>NVC</td>\n",
              "      <td>326.197998</td>\n",
              "      <td>102453.0</td>\n",
              "      <td>69.259697</td>\n",
              "      <td>13.018900</td>\n",
              "      <td>2.96978</td>\n",
              "      <td>5.755687</td>\n",
              "      <td>6.602938</td>\n",
              "      <td>8.837000</td>\n",
              "      <td>9.167312</td>\n",
              "      <td>0.000000</td>\n",
              "      <td>27.722601</td>\n",
              "      <td>1828.880005</td>\n",
              "      <td>0.000000</td>\n",
              "    </tr>\n",
              "    <tr>\n",
              "      <th>3</th>\n",
              "      <td>1/4/2019</td>\n",
              "      <td>21.0491</td>\n",
              "      <td>105.8831</td>\n",
              "      <td>39.379204</td>\n",
              "      <td>NVC</td>\n",
              "      <td>197.524994</td>\n",
              "      <td>102181.0</td>\n",
              "      <td>78.663696</td>\n",
              "      <td>15.516100</td>\n",
              "      <td>2.77573</td>\n",
              "      <td>8.956062</td>\n",
              "      <td>10.830875</td>\n",
              "      <td>13.301438</td>\n",
              "      <td>13.640625</td>\n",
              "      <td>0.000000</td>\n",
              "      <td>27.722601</td>\n",
              "      <td>1828.880005</td>\n",
              "      <td>0.000000</td>\n",
              "    </tr>\n",
              "    <tr>\n",
              "      <th>4</th>\n",
              "      <td>1/5/2019</td>\n",
              "      <td>21.0491</td>\n",
              "      <td>105.8831</td>\n",
              "      <td>39.901879</td>\n",
              "      <td>NVC</td>\n",
              "      <td>287.825012</td>\n",
              "      <td>102072.0</td>\n",
              "      <td>75.866699</td>\n",
              "      <td>17.658199</td>\n",
              "      <td>3.12869</td>\n",
              "      <td>12.547000</td>\n",
              "      <td>12.891687</td>\n",
              "      <td>15.638813</td>\n",
              "      <td>12.034750</td>\n",
              "      <td>0.000000</td>\n",
              "      <td>27.722601</td>\n",
              "      <td>1828.880005</td>\n",
              "      <td>0.000000</td>\n",
              "    </tr>\n",
              "    <tr>\n",
              "      <th>...</th>\n",
              "      <td>...</td>\n",
              "      <td>...</td>\n",
              "      <td>...</td>\n",
              "      <td>...</td>\n",
              "      <td>...</td>\n",
              "      <td>...</td>\n",
              "      <td>...</td>\n",
              "      <td>...</td>\n",
              "      <td>...</td>\n",
              "      <td>...</td>\n",
              "      <td>...</td>\n",
              "      <td>...</td>\n",
              "      <td>...</td>\n",
              "      <td>...</td>\n",
              "      <td>...</td>\n",
              "      <td>...</td>\n",
              "      <td>...</td>\n",
              "      <td>...</td>\n",
              "    </tr>\n",
              "    <tr>\n",
              "      <th>5470</th>\n",
              "      <td>12/27/2019</td>\n",
              "      <td>21.0197</td>\n",
              "      <td>105.8147</td>\n",
              "      <td>18.995833</td>\n",
              "      <td>ThanhCong</td>\n",
              "      <td>454.903015</td>\n",
              "      <td>102068.0</td>\n",
              "      <td>43.484299</td>\n",
              "      <td>16.768499</td>\n",
              "      <td>3.66034</td>\n",
              "      <td>7.437375</td>\n",
              "      <td>5.100375</td>\n",
              "      <td>3.930875</td>\n",
              "      <td>6.508750</td>\n",
              "      <td>0.000000</td>\n",
              "      <td>442.738007</td>\n",
              "      <td>4993.080078</td>\n",
              "      <td>0.000000</td>\n",
              "    </tr>\n",
              "    <tr>\n",
              "      <th>5471</th>\n",
              "      <td>12/28/2019</td>\n",
              "      <td>21.0197</td>\n",
              "      <td>105.8147</td>\n",
              "      <td>23.241667</td>\n",
              "      <td>ThanhCong</td>\n",
              "      <td>400.079010</td>\n",
              "      <td>101755.0</td>\n",
              "      <td>49.469700</td>\n",
              "      <td>19.499901</td>\n",
              "      <td>2.41066</td>\n",
              "      <td>13.452063</td>\n",
              "      <td>12.091188</td>\n",
              "      <td>5.180625</td>\n",
              "      <td>9.206437</td>\n",
              "      <td>0.000000</td>\n",
              "      <td>442.738007</td>\n",
              "      <td>4993.080078</td>\n",
              "      <td>0.000000</td>\n",
              "    </tr>\n",
              "    <tr>\n",
              "      <th>5472</th>\n",
              "      <td>12/29/2019</td>\n",
              "      <td>21.0197</td>\n",
              "      <td>105.8147</td>\n",
              "      <td>16.816667</td>\n",
              "      <td>ThanhCong</td>\n",
              "      <td>326.407013</td>\n",
              "      <td>101510.0</td>\n",
              "      <td>66.391800</td>\n",
              "      <td>22.555500</td>\n",
              "      <td>1.45771</td>\n",
              "      <td>17.722375</td>\n",
              "      <td>16.551500</td>\n",
              "      <td>13.518500</td>\n",
              "      <td>18.223813</td>\n",
              "      <td>0.000000</td>\n",
              "      <td>442.738007</td>\n",
              "      <td>4993.080078</td>\n",
              "      <td>0.000089</td>\n",
              "    </tr>\n",
              "    <tr>\n",
              "      <th>5473</th>\n",
              "      <td>12/30/2019</td>\n",
              "      <td>21.0197</td>\n",
              "      <td>105.8147</td>\n",
              "      <td>21.595833</td>\n",
              "      <td>ThanhCong</td>\n",
              "      <td>468.182007</td>\n",
              "      <td>101796.0</td>\n",
              "      <td>64.951401</td>\n",
              "      <td>23.062800</td>\n",
              "      <td>4.10253</td>\n",
              "      <td>16.676687</td>\n",
              "      <td>14.273500</td>\n",
              "      <td>16.221062</td>\n",
              "      <td>18.177937</td>\n",
              "      <td>0.000000</td>\n",
              "      <td>442.738007</td>\n",
              "      <td>4993.080078</td>\n",
              "      <td>0.000000</td>\n",
              "    </tr>\n",
              "    <tr>\n",
              "      <th>5474</th>\n",
              "      <td>12/31/2019</td>\n",
              "      <td>21.0197</td>\n",
              "      <td>105.8147</td>\n",
              "      <td>19.058333</td>\n",
              "      <td>ThanhCong</td>\n",
              "      <td>403.809998</td>\n",
              "      <td>102328.0</td>\n",
              "      <td>56.802601</td>\n",
              "      <td>20.295401</td>\n",
              "      <td>4.08768</td>\n",
              "      <td>12.042750</td>\n",
              "      <td>11.365063</td>\n",
              "      <td>11.604563</td>\n",
              "      <td>13.162625</td>\n",
              "      <td>0.000000</td>\n",
              "      <td>442.738007</td>\n",
              "      <td>4993.080078</td>\n",
              "      <td>0.000000</td>\n",
              "    </tr>\n",
              "  </tbody>\n",
              "</table>\n",
              "<p>5475 rows × 18 columns</p>\n",
              "</div>"
            ],
            "text/plain": [
              "            time      lat       lon  ...   pplt_dens    road_dens   omi_no2\n",
              "0       1/1/2019  21.0491  105.8831  ...   27.722601  1828.880005  0.000000\n",
              "1       1/2/2019  21.0491  105.8831  ...   27.722601  1828.880005  0.000000\n",
              "2       1/3/2019  21.0491  105.8831  ...   27.722601  1828.880005  0.000000\n",
              "3       1/4/2019  21.0491  105.8831  ...   27.722601  1828.880005  0.000000\n",
              "4       1/5/2019  21.0491  105.8831  ...   27.722601  1828.880005  0.000000\n",
              "...          ...      ...       ...  ...         ...          ...       ...\n",
              "5470  12/27/2019  21.0197  105.8147  ...  442.738007  4993.080078  0.000000\n",
              "5471  12/28/2019  21.0197  105.8147  ...  442.738007  4993.080078  0.000000\n",
              "5472  12/29/2019  21.0197  105.8147  ...  442.738007  4993.080078  0.000089\n",
              "5473  12/30/2019  21.0197  105.8147  ...  442.738007  4993.080078  0.000000\n",
              "5474  12/31/2019  21.0197  105.8147  ...  442.738007  4993.080078  0.000000\n",
              "\n",
              "[5475 rows x 18 columns]"
            ]
          },
          "metadata": {
            "tags": []
          },
          "execution_count": 4
        }
      ]
    },
    {
      "cell_type": "markdown",
      "metadata": {
        "id": "tLYEwuXebH9F"
      },
      "source": [
        "## Data Preprocessing"
      ]
    },
    {
      "cell_type": "markdown",
      "metadata": {
        "id": "2NGpX4L-CF4y"
      },
      "source": [
        "### Define Functions for Preprocessing"
      ]
    },
    {
      "cell_type": "code",
      "metadata": {
        "id": "mNvwxtRD9m8e"
      },
      "source": [
        "labelencoder = LabelEncoder()\n",
        "\n",
        "# We encode time into string format for better usage\n",
        "def encode_time(time):\n",
        "    try:\n",
        "        split = time.split(sep='/', maxsplit=3)\n",
        "        # return split[1] + split[2]\n",
        "        return split[0]\n",
        "    except:\n",
        "        return\n",
        "\n",
        "# Scaling numerical data to range(0,1)\n",
        "def scale_numeric(df):\n",
        "  scaler = MinMaxScaler()\n",
        "\n",
        "  numeric_cols = [\"pblh\",\t\"press\", \"rh\",\t\"tmp\",\t\"wspd\",\t\"dpt_00\",\t\"dpt_06\",\t\"dpt_12\",\t\"dpt_18\",\t\"pplt_dens\",\t\"road_dens\"]\n",
        "\n",
        "  df[[col for col in numeric_cols]] = scaler.fit_transform(df[[col for col in numeric_cols]])\n",
        "  \n",
        "  return df\n",
        "\n",
        "def preprocess(df, scale=False):  \n",
        "    # drop_cols = ['time', 'name', 'omi_no2', 'ndvi', 'Unnamed: 18']\n",
        "    drop_cols = ['Unnamed: 18', 'omi_no2']\n",
        "    # drop na column\n",
        "    for col in drop_cols:\n",
        "      if col in df:\n",
        "        df.drop(col, axis='columns', inplace=True)\n",
        "\n",
        "    df.dropna(axis='rows',inplace=True)\n",
        "    \n",
        "    # df['month'] == df['time'].apply(encode_time)\n",
        "\n",
        "    if scale != False:\n",
        "      df = scale_numeric(df)\n",
        "\n",
        "    return df"
      ],
      "execution_count": 6,
      "outputs": []
    },
    {
      "cell_type": "markdown",
      "metadata": {
        "id": "VU9jp2ekCMnc"
      },
      "source": [
        "### Applying Preprocessing to data"
      ]
    },
    {
      "cell_type": "code",
      "metadata": {
        "colab": {
          "base_uri": "https://localhost:8080/",
          "height": 439
        },
        "id": "Nq9APwYGEKky",
        "outputId": "be8f1290-7e17-445b-c59e-8ebbb7fe3ad2"
      },
      "source": [
        "# Setting scale to True if you want to generate a scaled data\n",
        "preprocess(data, scale=False)\n",
        "\n",
        "# data['month'] = data['time'].apply(encode_time)\n",
        "data"
      ],
      "execution_count": 7,
      "outputs": [
        {
          "output_type": "execute_result",
          "data": {
            "text/html": [
              "<div>\n",
              "<style scoped>\n",
              "    .dataframe tbody tr th:only-of-type {\n",
              "        vertical-align: middle;\n",
              "    }\n",
              "\n",
              "    .dataframe tbody tr th {\n",
              "        vertical-align: top;\n",
              "    }\n",
              "\n",
              "    .dataframe thead th {\n",
              "        text-align: right;\n",
              "    }\n",
              "</style>\n",
              "<table border=\"1\" class=\"dataframe\">\n",
              "  <thead>\n",
              "    <tr style=\"text-align: right;\">\n",
              "      <th></th>\n",
              "      <th>time</th>\n",
              "      <th>lat</th>\n",
              "      <th>lon</th>\n",
              "      <th>NO2</th>\n",
              "      <th>name</th>\n",
              "      <th>pblh</th>\n",
              "      <th>press</th>\n",
              "      <th>rh</th>\n",
              "      <th>tmp</th>\n",
              "      <th>wspd</th>\n",
              "      <th>dpt_00</th>\n",
              "      <th>dpt_06</th>\n",
              "      <th>dpt_12</th>\n",
              "      <th>dpt_18</th>\n",
              "      <th>ndvi</th>\n",
              "      <th>pplt_dens</th>\n",
              "      <th>road_dens</th>\n",
              "    </tr>\n",
              "  </thead>\n",
              "  <tbody>\n",
              "    <tr>\n",
              "      <th>0</th>\n",
              "      <td>1/1/2019</td>\n",
              "      <td>21.0491</td>\n",
              "      <td>105.8831</td>\n",
              "      <td>0.000000</td>\n",
              "      <td>NVC</td>\n",
              "      <td>391.864014</td>\n",
              "      <td>102794.0</td>\n",
              "      <td>66.589302</td>\n",
              "      <td>11.087100</td>\n",
              "      <td>4.69022</td>\n",
              "      <td>5.980500</td>\n",
              "      <td>5.019875</td>\n",
              "      <td>4.711437</td>\n",
              "      <td>4.758125</td>\n",
              "      <td>0.134988</td>\n",
              "      <td>27.722601</td>\n",
              "      <td>1828.880005</td>\n",
              "    </tr>\n",
              "    <tr>\n",
              "      <th>1</th>\n",
              "      <td>1/2/2019</td>\n",
              "      <td>21.0491</td>\n",
              "      <td>105.8831</td>\n",
              "      <td>0.000000</td>\n",
              "      <td>NVC</td>\n",
              "      <td>558.942993</td>\n",
              "      <td>102699.0</td>\n",
              "      <td>65.773903</td>\n",
              "      <td>12.090000</td>\n",
              "      <td>3.59040</td>\n",
              "      <td>2.657062</td>\n",
              "      <td>4.092187</td>\n",
              "      <td>8.700875</td>\n",
              "      <td>7.603187</td>\n",
              "      <td>0.000000</td>\n",
              "      <td>27.722601</td>\n",
              "      <td>1828.880005</td>\n",
              "    </tr>\n",
              "    <tr>\n",
              "      <th>2</th>\n",
              "      <td>1/3/2019</td>\n",
              "      <td>21.0491</td>\n",
              "      <td>105.8831</td>\n",
              "      <td>41.310400</td>\n",
              "      <td>NVC</td>\n",
              "      <td>326.197998</td>\n",
              "      <td>102453.0</td>\n",
              "      <td>69.259697</td>\n",
              "      <td>13.018900</td>\n",
              "      <td>2.96978</td>\n",
              "      <td>5.755687</td>\n",
              "      <td>6.602938</td>\n",
              "      <td>8.837000</td>\n",
              "      <td>9.167312</td>\n",
              "      <td>0.000000</td>\n",
              "      <td>27.722601</td>\n",
              "      <td>1828.880005</td>\n",
              "    </tr>\n",
              "    <tr>\n",
              "      <th>3</th>\n",
              "      <td>1/4/2019</td>\n",
              "      <td>21.0491</td>\n",
              "      <td>105.8831</td>\n",
              "      <td>39.379204</td>\n",
              "      <td>NVC</td>\n",
              "      <td>197.524994</td>\n",
              "      <td>102181.0</td>\n",
              "      <td>78.663696</td>\n",
              "      <td>15.516100</td>\n",
              "      <td>2.77573</td>\n",
              "      <td>8.956062</td>\n",
              "      <td>10.830875</td>\n",
              "      <td>13.301438</td>\n",
              "      <td>13.640625</td>\n",
              "      <td>0.000000</td>\n",
              "      <td>27.722601</td>\n",
              "      <td>1828.880005</td>\n",
              "    </tr>\n",
              "    <tr>\n",
              "      <th>4</th>\n",
              "      <td>1/5/2019</td>\n",
              "      <td>21.0491</td>\n",
              "      <td>105.8831</td>\n",
              "      <td>39.901879</td>\n",
              "      <td>NVC</td>\n",
              "      <td>287.825012</td>\n",
              "      <td>102072.0</td>\n",
              "      <td>75.866699</td>\n",
              "      <td>17.658199</td>\n",
              "      <td>3.12869</td>\n",
              "      <td>12.547000</td>\n",
              "      <td>12.891687</td>\n",
              "      <td>15.638813</td>\n",
              "      <td>12.034750</td>\n",
              "      <td>0.000000</td>\n",
              "      <td>27.722601</td>\n",
              "      <td>1828.880005</td>\n",
              "    </tr>\n",
              "    <tr>\n",
              "      <th>...</th>\n",
              "      <td>...</td>\n",
              "      <td>...</td>\n",
              "      <td>...</td>\n",
              "      <td>...</td>\n",
              "      <td>...</td>\n",
              "      <td>...</td>\n",
              "      <td>...</td>\n",
              "      <td>...</td>\n",
              "      <td>...</td>\n",
              "      <td>...</td>\n",
              "      <td>...</td>\n",
              "      <td>...</td>\n",
              "      <td>...</td>\n",
              "      <td>...</td>\n",
              "      <td>...</td>\n",
              "      <td>...</td>\n",
              "      <td>...</td>\n",
              "    </tr>\n",
              "    <tr>\n",
              "      <th>5470</th>\n",
              "      <td>12/27/2019</td>\n",
              "      <td>21.0197</td>\n",
              "      <td>105.8147</td>\n",
              "      <td>18.995833</td>\n",
              "      <td>ThanhCong</td>\n",
              "      <td>454.903015</td>\n",
              "      <td>102068.0</td>\n",
              "      <td>43.484299</td>\n",
              "      <td>16.768499</td>\n",
              "      <td>3.66034</td>\n",
              "      <td>7.437375</td>\n",
              "      <td>5.100375</td>\n",
              "      <td>3.930875</td>\n",
              "      <td>6.508750</td>\n",
              "      <td>0.000000</td>\n",
              "      <td>442.738007</td>\n",
              "      <td>4993.080078</td>\n",
              "    </tr>\n",
              "    <tr>\n",
              "      <th>5471</th>\n",
              "      <td>12/28/2019</td>\n",
              "      <td>21.0197</td>\n",
              "      <td>105.8147</td>\n",
              "      <td>23.241667</td>\n",
              "      <td>ThanhCong</td>\n",
              "      <td>400.079010</td>\n",
              "      <td>101755.0</td>\n",
              "      <td>49.469700</td>\n",
              "      <td>19.499901</td>\n",
              "      <td>2.41066</td>\n",
              "      <td>13.452063</td>\n",
              "      <td>12.091188</td>\n",
              "      <td>5.180625</td>\n",
              "      <td>9.206437</td>\n",
              "      <td>0.000000</td>\n",
              "      <td>442.738007</td>\n",
              "      <td>4993.080078</td>\n",
              "    </tr>\n",
              "    <tr>\n",
              "      <th>5472</th>\n",
              "      <td>12/29/2019</td>\n",
              "      <td>21.0197</td>\n",
              "      <td>105.8147</td>\n",
              "      <td>16.816667</td>\n",
              "      <td>ThanhCong</td>\n",
              "      <td>326.407013</td>\n",
              "      <td>101510.0</td>\n",
              "      <td>66.391800</td>\n",
              "      <td>22.555500</td>\n",
              "      <td>1.45771</td>\n",
              "      <td>17.722375</td>\n",
              "      <td>16.551500</td>\n",
              "      <td>13.518500</td>\n",
              "      <td>18.223813</td>\n",
              "      <td>0.000000</td>\n",
              "      <td>442.738007</td>\n",
              "      <td>4993.080078</td>\n",
              "    </tr>\n",
              "    <tr>\n",
              "      <th>5473</th>\n",
              "      <td>12/30/2019</td>\n",
              "      <td>21.0197</td>\n",
              "      <td>105.8147</td>\n",
              "      <td>21.595833</td>\n",
              "      <td>ThanhCong</td>\n",
              "      <td>468.182007</td>\n",
              "      <td>101796.0</td>\n",
              "      <td>64.951401</td>\n",
              "      <td>23.062800</td>\n",
              "      <td>4.10253</td>\n",
              "      <td>16.676687</td>\n",
              "      <td>14.273500</td>\n",
              "      <td>16.221062</td>\n",
              "      <td>18.177937</td>\n",
              "      <td>0.000000</td>\n",
              "      <td>442.738007</td>\n",
              "      <td>4993.080078</td>\n",
              "    </tr>\n",
              "    <tr>\n",
              "      <th>5474</th>\n",
              "      <td>12/31/2019</td>\n",
              "      <td>21.0197</td>\n",
              "      <td>105.8147</td>\n",
              "      <td>19.058333</td>\n",
              "      <td>ThanhCong</td>\n",
              "      <td>403.809998</td>\n",
              "      <td>102328.0</td>\n",
              "      <td>56.802601</td>\n",
              "      <td>20.295401</td>\n",
              "      <td>4.08768</td>\n",
              "      <td>12.042750</td>\n",
              "      <td>11.365063</td>\n",
              "      <td>11.604563</td>\n",
              "      <td>13.162625</td>\n",
              "      <td>0.000000</td>\n",
              "      <td>442.738007</td>\n",
              "      <td>4993.080078</td>\n",
              "    </tr>\n",
              "  </tbody>\n",
              "</table>\n",
              "<p>5460 rows × 17 columns</p>\n",
              "</div>"
            ],
            "text/plain": [
              "            time      lat       lon  ...      ndvi   pplt_dens    road_dens\n",
              "0       1/1/2019  21.0491  105.8831  ...  0.134988   27.722601  1828.880005\n",
              "1       1/2/2019  21.0491  105.8831  ...  0.000000   27.722601  1828.880005\n",
              "2       1/3/2019  21.0491  105.8831  ...  0.000000   27.722601  1828.880005\n",
              "3       1/4/2019  21.0491  105.8831  ...  0.000000   27.722601  1828.880005\n",
              "4       1/5/2019  21.0491  105.8831  ...  0.000000   27.722601  1828.880005\n",
              "...          ...      ...       ...  ...       ...         ...          ...\n",
              "5470  12/27/2019  21.0197  105.8147  ...  0.000000  442.738007  4993.080078\n",
              "5471  12/28/2019  21.0197  105.8147  ...  0.000000  442.738007  4993.080078\n",
              "5472  12/29/2019  21.0197  105.8147  ...  0.000000  442.738007  4993.080078\n",
              "5473  12/30/2019  21.0197  105.8147  ...  0.000000  442.738007  4993.080078\n",
              "5474  12/31/2019  21.0197  105.8147  ...  0.000000  442.738007  4993.080078\n",
              "\n",
              "[5460 rows x 17 columns]"
            ]
          },
          "metadata": {
            "tags": []
          },
          "execution_count": 7
        }
      ]
    },
    {
      "cell_type": "markdown",
      "metadata": {
        "id": "LZQ9JuMYeRrf"
      },
      "source": [
        "# Kmeans Clustering"
      ]
    },
    {
      "cell_type": "code",
      "metadata": {
        "id": "WOZcv1neRaUr"
      },
      "source": [
        "# data_version = 'data_processed_scaled.csv'\n",
        "\n",
        "# data = pd.read_csv(os.path.join(data_folder, data_version))\n",
        "# data"
      ],
      "execution_count": null,
      "outputs": []
    },
    {
      "cell_type": "code",
      "metadata": {
        "id": "Fi0sON83IA_J"
      },
      "source": [
        "X = data.drop('NO2', axis='columns')\n",
        "X = data['NO2', 'time']\n",
        "\n",
        "cluster_range = range(2, 15)\n",
        "kmeans_kwargs = {\n",
        "    \"init\": \"random\",\n",
        "    \"n_init\": 10,\n",
        "    \"max_iter\": 300,\n",
        "    \"random_state\": 42,\n",
        "}\n",
        "\n",
        "# A list holds the SSE values for each k\n",
        "sse = []\n",
        "\n",
        "for k in cluster_range:\n",
        "    kmeans = KMeans(n_clusters=k, **kmeans_kwargs)\n",
        "    kmeans.fit(X)\n",
        "    sse.append(kmeans.inertia_)"
      ],
      "execution_count": null,
      "outputs": []
    },
    {
      "cell_type": "code",
      "metadata": {
        "colab": {
          "base_uri": "https://localhost:8080/",
          "height": 311
        },
        "id": "J6Rukz4yILc0",
        "outputId": "baeb9e52-08de-431d-9f07-68c400ba465e"
      },
      "source": [
        " plt.style.use(\"fivethirtyeight\")\n",
        " plt.plot(cluster_range, sse)\n",
        " plt.xticks(cluster_range)\n",
        " plt.xlabel(\"Number of Clusters\")\n",
        " plt.ylabel(\"SSE\")\n",
        " plt.show()"
      ],
      "execution_count": null,
      "outputs": [
        {
          "output_type": "display_data",
          "data": {
            "image/png": "[encoded data removed]",
            "text/plain": [
              "<Figure size 432x288 with 1 Axes>"
            ]
          },
          "metadata": {
            "tags": []
          }
        }
      ]
    },
    {
      "cell_type": "code",
      "metadata": {
        "colab": {
          "base_uri": "https://localhost:8080/"
        },
        "id": "p0tFyaGKImJL",
        "outputId": "ae8dfff1-be45-449b-f449-6105e83aaa83"
      },
      "source": [
        "kl = KneeLocator(cluster_range, sse, curve=\"convex\", direction=\"decreasing\")\n",
        "\n",
        "best_clusters = kl.elbow\n",
        "best_clusters"
      ],
      "execution_count": null,
      "outputs": [
        {
          "output_type": "execute_result",
          "data": {
            "text/plain": [
              "6"
            ]
          },
          "metadata": {
            "tags": []
          },
          "execution_count": 15
        }
      ]
    },
    {
      "cell_type": "code",
      "metadata": {
        "id": "PS7Rz1BDOBEJ"
      },
      "source": [
        "type(X)\n",
        "X_arr = X.to_numpy()"
      ],
      "execution_count": null,
      "outputs": []
    },
    {
      "cell_type": "code",
      "metadata": {
        "colab": {
          "base_uri": "https://localhost:8080/"
        },
        "id": "u9VBPWGdIs5_",
        "outputId": "aa9da883-b450-4593-c9d7-0d16c5606505"
      },
      "source": [
        "best_kmeans = KMeans(n_clusters=best_clusters, **kmeans_kwargs)\n",
        "best_kmeans.fit(X_arr)\n",
        "labels = best_kmeans.predict(X_arr)\n",
        "\n",
        "# label of cluster centroids for all points\n",
        "labels"
      ],
      "execution_count": null,
      "outputs": [
        {
          "output_type": "execute_result",
          "data": {
            "text/plain": [
              "array([4, 4, 4, ..., 5, 5, 5], dtype=int32)"
            ]
          },
          "metadata": {
            "tags": []
          },
          "execution_count": 17
        }
      ]
    },
    {
      "cell_type": "code",
      "metadata": {
        "colab": {
          "base_uri": "https://localhost:8080/",
          "height": 419
        },
        "id": "9fqknF4CFmML",
        "outputId": "2c0f3371-a1e1-4f07-ae83-16c3c19b8d35"
      },
      "source": [
        "X"
      ],
      "execution_count": null,
      "outputs": [
        {
          "output_type": "execute_result",
          "data": {
            "text/html": [
              "<div>\n",
              "<style scoped>\n",
              "    .dataframe tbody tr th:only-of-type {\n",
              "        vertical-align: middle;\n",
              "    }\n",
              "\n",
              "    .dataframe tbody tr th {\n",
              "        vertical-align: top;\n",
              "    }\n",
              "\n",
              "    .dataframe thead th {\n",
              "        text-align: right;\n",
              "    }\n",
              "</style>\n",
              "<table border=\"1\" class=\"dataframe\">\n",
              "  <thead>\n",
              "    <tr style=\"text-align: right;\">\n",
              "      <th></th>\n",
              "      <th>lat</th>\n",
              "      <th>lon</th>\n",
              "      <th>pblh</th>\n",
              "      <th>press</th>\n",
              "      <th>rh</th>\n",
              "      <th>tmp</th>\n",
              "      <th>wspd</th>\n",
              "      <th>dpt_00</th>\n",
              "      <th>dpt_06</th>\n",
              "      <th>dpt_12</th>\n",
              "      <th>dpt_18</th>\n",
              "      <th>pplt_dens</th>\n",
              "      <th>road_dens</th>\n",
              "    </tr>\n",
              "  </thead>\n",
              "  <tbody>\n",
              "    <tr>\n",
              "      <th>0</th>\n",
              "      <td>21.0491</td>\n",
              "      <td>105.8831</td>\n",
              "      <td>391.864014</td>\n",
              "      <td>102794.0</td>\n",
              "      <td>66.589302</td>\n",
              "      <td>11.087100</td>\n",
              "      <td>4.69022</td>\n",
              "      <td>5.980500</td>\n",
              "      <td>5.019875</td>\n",
              "      <td>4.711437</td>\n",
              "      <td>4.758125</td>\n",
              "      <td>27.722601</td>\n",
              "      <td>1828.880005</td>\n",
              "    </tr>\n",
              "    <tr>\n",
              "      <th>1</th>\n",
              "      <td>21.0491</td>\n",
              "      <td>105.8831</td>\n",
              "      <td>558.942993</td>\n",
              "      <td>102699.0</td>\n",
              "      <td>65.773903</td>\n",
              "      <td>12.090000</td>\n",
              "      <td>3.59040</td>\n",
              "      <td>2.657062</td>\n",
              "      <td>4.092187</td>\n",
              "      <td>8.700875</td>\n",
              "      <td>7.603187</td>\n",
              "      <td>27.722601</td>\n",
              "      <td>1828.880005</td>\n",
              "    </tr>\n",
              "    <tr>\n",
              "      <th>2</th>\n",
              "      <td>21.0491</td>\n",
              "      <td>105.8831</td>\n",
              "      <td>326.197998</td>\n",
              "      <td>102453.0</td>\n",
              "      <td>69.259697</td>\n",
              "      <td>13.018900</td>\n",
              "      <td>2.96978</td>\n",
              "      <td>5.755687</td>\n",
              "      <td>6.602938</td>\n",
              "      <td>8.837000</td>\n",
              "      <td>9.167312</td>\n",
              "      <td>27.722601</td>\n",
              "      <td>1828.880005</td>\n",
              "    </tr>\n",
              "    <tr>\n",
              "      <th>3</th>\n",
              "      <td>21.0491</td>\n",
              "      <td>105.8831</td>\n",
              "      <td>197.524994</td>\n",
              "      <td>102181.0</td>\n",
              "      <td>78.663696</td>\n",
              "      <td>15.516100</td>\n",
              "      <td>2.77573</td>\n",
              "      <td>8.956062</td>\n",
              "      <td>10.830875</td>\n",
              "      <td>13.301438</td>\n",
              "      <td>13.640625</td>\n",
              "      <td>27.722601</td>\n",
              "      <td>1828.880005</td>\n",
              "    </tr>\n",
              "    <tr>\n",
              "      <th>4</th>\n",
              "      <td>21.0491</td>\n",
              "      <td>105.8831</td>\n",
              "      <td>287.825012</td>\n",
              "      <td>102072.0</td>\n",
              "      <td>75.866699</td>\n",
              "      <td>17.658199</td>\n",
              "      <td>3.12869</td>\n",
              "      <td>12.547000</td>\n",
              "      <td>12.891687</td>\n",
              "      <td>15.638813</td>\n",
              "      <td>12.034750</td>\n",
              "      <td>27.722601</td>\n",
              "      <td>1828.880005</td>\n",
              "    </tr>\n",
              "    <tr>\n",
              "      <th>...</th>\n",
              "      <td>...</td>\n",
              "      <td>...</td>\n",
              "      <td>...</td>\n",
              "      <td>...</td>\n",
              "      <td>...</td>\n",
              "      <td>...</td>\n",
              "      <td>...</td>\n",
              "      <td>...</td>\n",
              "      <td>...</td>\n",
              "      <td>...</td>\n",
              "      <td>...</td>\n",
              "      <td>...</td>\n",
              "      <td>...</td>\n",
              "    </tr>\n",
              "    <tr>\n",
              "      <th>5470</th>\n",
              "      <td>21.0197</td>\n",
              "      <td>105.8147</td>\n",
              "      <td>454.903015</td>\n",
              "      <td>102068.0</td>\n",
              "      <td>43.484299</td>\n",
              "      <td>16.768499</td>\n",
              "      <td>3.66034</td>\n",
              "      <td>7.437375</td>\n",
              "      <td>5.100375</td>\n",
              "      <td>3.930875</td>\n",
              "      <td>6.508750</td>\n",
              "      <td>442.738007</td>\n",
              "      <td>4993.080078</td>\n",
              "    </tr>\n",
              "    <tr>\n",
              "      <th>5471</th>\n",
              "      <td>21.0197</td>\n",
              "      <td>105.8147</td>\n",
              "      <td>400.079010</td>\n",
              "      <td>101755.0</td>\n",
              "      <td>49.469700</td>\n",
              "      <td>19.499901</td>\n",
              "      <td>2.41066</td>\n",
              "      <td>13.452063</td>\n",
              "      <td>12.091188</td>\n",
              "      <td>5.180625</td>\n",
              "      <td>9.206437</td>\n",
              "      <td>442.738007</td>\n",
              "      <td>4993.080078</td>\n",
              "    </tr>\n",
              "    <tr>\n",
              "      <th>5472</th>\n",
              "      <td>21.0197</td>\n",
              "      <td>105.8147</td>\n",
              "      <td>326.407013</td>\n",
              "      <td>101510.0</td>\n",
              "      <td>66.391800</td>\n",
              "      <td>22.555500</td>\n",
              "      <td>1.45771</td>\n",
              "      <td>17.722375</td>\n",
              "      <td>16.551500</td>\n",
              "      <td>13.518500</td>\n",
              "      <td>18.223813</td>\n",
              "      <td>442.738007</td>\n",
              "      <td>4993.080078</td>\n",
              "    </tr>\n",
              "    <tr>\n",
              "      <th>5473</th>\n",
              "      <td>21.0197</td>\n",
              "      <td>105.8147</td>\n",
              "      <td>468.182007</td>\n",
              "      <td>101796.0</td>\n",
              "      <td>64.951401</td>\n",
              "      <td>23.062800</td>\n",
              "      <td>4.10253</td>\n",
              "      <td>16.676687</td>\n",
              "      <td>14.273500</td>\n",
              "      <td>16.221062</td>\n",
              "      <td>18.177937</td>\n",
              "      <td>442.738007</td>\n",
              "      <td>4993.080078</td>\n",
              "    </tr>\n",
              "    <tr>\n",
              "      <th>5474</th>\n",
              "      <td>21.0197</td>\n",
              "      <td>105.8147</td>\n",
              "      <td>403.809998</td>\n",
              "      <td>102328.0</td>\n",
              "      <td>56.802601</td>\n",
              "      <td>20.295401</td>\n",
              "      <td>4.08768</td>\n",
              "      <td>12.042750</td>\n",
              "      <td>11.365063</td>\n",
              "      <td>11.604563</td>\n",
              "      <td>13.162625</td>\n",
              "      <td>442.738007</td>\n",
              "      <td>4993.080078</td>\n",
              "    </tr>\n",
              "  </tbody>\n",
              "</table>\n",
              "<p>5460 rows × 13 columns</p>\n",
              "</div>"
            ],
            "text/plain": [
              "          lat       lon        pblh  ...     dpt_18   pplt_dens    road_dens\n",
              "0     21.0491  105.8831  391.864014  ...   4.758125   27.722601  1828.880005\n",
              "1     21.0491  105.8831  558.942993  ...   7.603187   27.722601  1828.880005\n",
              "2     21.0491  105.8831  326.197998  ...   9.167312   27.722601  1828.880005\n",
              "3     21.0491  105.8831  197.524994  ...  13.640625   27.722601  1828.880005\n",
              "4     21.0491  105.8831  287.825012  ...  12.034750   27.722601  1828.880005\n",
              "...       ...       ...         ...  ...        ...         ...          ...\n",
              "5470  21.0197  105.8147  454.903015  ...   6.508750  442.738007  4993.080078\n",
              "5471  21.0197  105.8147  400.079010  ...   9.206437  442.738007  4993.080078\n",
              "5472  21.0197  105.8147  326.407013  ...  18.223813  442.738007  4993.080078\n",
              "5473  21.0197  105.8147  468.182007  ...  18.177937  442.738007  4993.080078\n",
              "5474  21.0197  105.8147  403.809998  ...  13.162625  442.738007  4993.080078\n",
              "\n",
              "[5460 rows x 13 columns]"
            ]
          },
          "metadata": {
            "tags": []
          },
          "execution_count": 18
        }
      ]
    },
    {
      "cell_type": "code",
      "metadata": {
        "colab": {
          "base_uri": "https://localhost:8080/"
        },
        "id": "KgTiMZmFNzca",
        "outputId": "e69c71c2-6d32-4bfe-a0ad-b0989e8def60"
      },
      "source": [
        "centroids = best_kmeans.cluster_centers_\n",
        "centroids"
      ],
      "execution_count": null,
      "outputs": [
        {
          "output_type": "execute_result",
          "data": {
            "text/plain": [
              "array([[2.10234451e+01, 1.05836606e+02, 5.71862716e+02, 1.00094336e+05,\n",
              "        7.65178052e+01, 2.92033999e+01, 4.36689221e+00, 2.43413734e+01,\n",
              "        2.37592636e+01, 2.40050249e+01, 2.41647181e+01, 2.30776211e+02,\n",
              "        5.30063662e+03],\n",
              "       [2.10686577e+01, 1.05907453e+02, 5.29748187e+02, 1.00102690e+05,\n",
              "        7.79432791e+01, 2.86857459e+01, 4.36134798e+00, 2.40502113e+01,\n",
              "        2.36135443e+01, 2.37266056e+01, 2.38542049e+01, 4.19400156e+01,\n",
              "        1.42176607e+03],\n",
              "       [1.90706201e+01, 1.06688670e+02, 4.15401175e+02, 1.01474666e+05,\n",
              "        7.54628461e+01, 2.24355250e+01, 3.50052499e+00, 1.73417985e+01,\n",
              "        1.72663508e+01, 1.72581791e+01, 1.73808903e+01, 1.93285697e+02,\n",
              "        3.79628280e+03],\n",
              "       [1.86970800e+01, 1.06831761e+02, 4.40970722e+02, 1.00209865e+05,\n",
              "        7.83647579e+01, 2.84683991e+01, 3.90549926e+00, 2.40520468e+01,\n",
              "        2.35585892e+01, 2.36701251e+01, 2.39096056e+01, 1.92365373e+02,\n",
              "        3.58629955e+03],\n",
              "       [2.10636207e+01, 1.05923012e+02, 4.16315372e+02, 1.01564212e+05,\n",
              "        7.04447342e+01, 2.12556963e+01, 3.55184095e+00, 1.50177454e+01,\n",
              "        1.48452066e+01, 1.48330515e+01, 1.50202183e+01, 4.18211266e+01,\n",
              "        1.41560011e+03],\n",
              "       [2.10179431e+01, 1.05834946e+02, 4.43636194e+02, 1.01547889e+05,\n",
              "        6.72753420e+01, 2.19387099e+01, 3.49924179e+00, 1.53628920e+01,\n",
              "        1.50665349e+01, 1.53056419e+01, 1.57177239e+01, 2.31949990e+02,\n",
              "        5.61388414e+03]])"
            ]
          },
          "metadata": {
            "tags": []
          },
          "execution_count": 19
        }
      ]
    },
    {
      "cell_type": "markdown",
      "metadata": {
        "id": "qbQPm35urw2_"
      },
      "source": [
        ""
      ]
    },
    {
      "cell_type": "code",
      "metadata": {
        "colab": {
          "base_uri": "https://localhost:8080/"
        },
        "id": "8-BUKuCSN12w",
        "outputId": "ed505635-9bf0-4a52-f8c5-57a68104e41f"
      },
      "source": [
        "features_dict = {k: v for k, v in enumerate(X.columns)}\n",
        "\n",
        "# function to return key for any value\n",
        "def get_key(val):\n",
        "\tfor key, value in features_dict.items():\n",
        "\t\tif val == value:\n",
        "\t\t\treturn key\n",
        "\n",
        "\treturn \"key doesn't exist\"\n",
        "\n",
        "features_dict\n",
        "# # get_key('road_dens')\n",
        "# X_arr[:, 12]"
      ],
      "execution_count": null,
      "outputs": [
        {
          "output_type": "execute_result",
          "data": {
            "text/plain": [
              "{0: 'lat',\n",
              " 1: 'lon',\n",
              " 2: 'pblh',\n",
              " 3: 'press',\n",
              " 4: 'rh',\n",
              " 5: 'tmp',\n",
              " 6: 'wspd',\n",
              " 7: 'dpt_00',\n",
              " 8: 'dpt_06',\n",
              " 9: 'dpt_12',\n",
              " 10: 'dpt_18',\n",
              " 11: 'pplt_dens',\n",
              " 12: 'road_dens'}"
            ]
          },
          "metadata": {
            "tags": []
          },
          "execution_count": 20
        }
      ]
    },
    {
      "cell_type": "code",
      "metadata": {
        "colab": {
          "base_uri": "https://localhost:8080/",
          "height": 318
        },
        "id": "y_BTcWRoN3gk",
        "outputId": "7ab9f5c0-1746-45cf-a5f3-ee20583b8745"
      },
      "source": [
        "x = 'rh'\n",
        "y = 'press'\n",
        "\n",
        "plt.scatter(X_arr[:, get_key(x)], X_arr[:, get_key(y)], c=labels, s=100, cmap='viridis')\n",
        "plt.scatter(centroids[:, get_key(x)], centroids[:, get_key(y)], marker = '*', c='red', s=200, alpha=0.5);\n",
        "\n",
        "plt.xlabel(x, fontsize = 14)\n",
        "plt.ylabel(y, fontsize = 14)"
      ],
      "execution_count": null,
      "outputs": [
        {
          "output_type": "execute_result",
          "data": {
            "text/plain": [
              "Text(0, 0.5, 'press')"
            ]
          },
          "metadata": {
            "tags": []
          },
          "execution_count": 21
        },
        {
          "output_type": "display_data",
          "data": {
            "image/png": "[encoded data removed]",
            "text/plain": [
              "<Figure size 432x288 with 1 Axes>"
            ]
          },
          "metadata": {
            "tags": []
          }
        }
      ]
    },
    {
      "cell_type": "code",
      "metadata": {
        "colab": {
          "base_uri": "https://localhost:8080/",
          "height": 316
        },
        "id": "MKNymEiQDJ05",
        "outputId": "3461021f-12bb-4cd0-d00d-f3300ef09af2"
      },
      "source": [
        "x = 'rh'\n",
        "y = 'tmp'\n",
        "\n",
        "plt.scatter(X_arr[:, get_key(x)], X_arr[:, get_key(y)], c=labels, s=100, cmap='viridis')\n",
        "plt.scatter(centroids[:, get_key(x)], centroids[:, get_key(y)], marker = '*', c='red', s=200, alpha=0.5);\n",
        "\n",
        "plt.xlabel(x, fontsize = 14)\n",
        "plt.ylabel(y, fontsize = 14)"
      ],
      "execution_count": null,
      "outputs": [
        {
          "output_type": "execute_result",
          "data": {
            "text/plain": [
              "Text(0, 0.5, 'tmp')"
            ]
          },
          "metadata": {
            "tags": []
          },
          "execution_count": 22
        },
        {
          "output_type": "display_data",
          "data": {
            "image/png": "[encoded data removed]",
            "text/plain": [
              "<Figure size 432x288 with 1 Axes>"
            ]
          },
          "metadata": {
            "tags": []
          }
        }
      ]
    },
    {
      "cell_type": "markdown",
      "metadata": {
        "id": "32XLa8vAea6U"
      },
      "source": [
        "## Adding cluster column"
      ]
    },
    {
      "cell_type": "code",
      "metadata": {
        "colab": {
          "base_uri": "https://localhost:8080/",
          "height": 419
        },
        "id": "KrwbaiYGPDmk",
        "outputId": "a9e43b88-6813-425e-ff3e-0828fce64f2b"
      },
      "source": [
        "data['cluster'] = best_kmeans.labels_\n",
        "data"
      ],
      "execution_count": null,
      "outputs": [
        {
          "output_type": "execute_result",
          "data": {
            "text/html": [
              "<div>\n",
              "<style scoped>\n",
              "    .dataframe tbody tr th:only-of-type {\n",
              "        vertical-align: middle;\n",
              "    }\n",
              "\n",
              "    .dataframe tbody tr th {\n",
              "        vertical-align: top;\n",
              "    }\n",
              "\n",
              "    .dataframe thead th {\n",
              "        text-align: right;\n",
              "    }\n",
              "</style>\n",
              "<table border=\"1\" class=\"dataframe\">\n",
              "  <thead>\n",
              "    <tr style=\"text-align: right;\">\n",
              "      <th></th>\n",
              "      <th>lat</th>\n",
              "      <th>lon</th>\n",
              "      <th>NO2</th>\n",
              "      <th>pblh</th>\n",
              "      <th>press</th>\n",
              "      <th>rh</th>\n",
              "      <th>tmp</th>\n",
              "      <th>wspd</th>\n",
              "      <th>dpt_00</th>\n",
              "      <th>dpt_06</th>\n",
              "      <th>dpt_12</th>\n",
              "      <th>dpt_18</th>\n",
              "      <th>pplt_dens</th>\n",
              "      <th>road_dens</th>\n",
              "      <th>cluster</th>\n",
              "    </tr>\n",
              "  </thead>\n",
              "  <tbody>\n",
              "    <tr>\n",
              "      <th>0</th>\n",
              "      <td>21.0491</td>\n",
              "      <td>105.8831</td>\n",
              "      <td>0.000000</td>\n",
              "      <td>391.864014</td>\n",
              "      <td>102794.0</td>\n",
              "      <td>66.589302</td>\n",
              "      <td>11.087100</td>\n",
              "      <td>4.69022</td>\n",
              "      <td>5.980500</td>\n",
              "      <td>5.019875</td>\n",
              "      <td>4.711437</td>\n",
              "      <td>4.758125</td>\n",
              "      <td>27.722601</td>\n",
              "      <td>1828.880005</td>\n",
              "      <td>4</td>\n",
              "    </tr>\n",
              "    <tr>\n",
              "      <th>1</th>\n",
              "      <td>21.0491</td>\n",
              "      <td>105.8831</td>\n",
              "      <td>0.000000</td>\n",
              "      <td>558.942993</td>\n",
              "      <td>102699.0</td>\n",
              "      <td>65.773903</td>\n",
              "      <td>12.090000</td>\n",
              "      <td>3.59040</td>\n",
              "      <td>2.657062</td>\n",
              "      <td>4.092187</td>\n",
              "      <td>8.700875</td>\n",
              "      <td>7.603187</td>\n",
              "      <td>27.722601</td>\n",
              "      <td>1828.880005</td>\n",
              "      <td>4</td>\n",
              "    </tr>\n",
              "    <tr>\n",
              "      <th>2</th>\n",
              "      <td>21.0491</td>\n",
              "      <td>105.8831</td>\n",
              "      <td>41.310400</td>\n",
              "      <td>326.197998</td>\n",
              "      <td>102453.0</td>\n",
              "      <td>69.259697</td>\n",
              "      <td>13.018900</td>\n",
              "      <td>2.96978</td>\n",
              "      <td>5.755687</td>\n",
              "      <td>6.602938</td>\n",
              "      <td>8.837000</td>\n",
              "      <td>9.167312</td>\n",
              "      <td>27.722601</td>\n",
              "      <td>1828.880005</td>\n",
              "      <td>4</td>\n",
              "    </tr>\n",
              "    <tr>\n",
              "      <th>3</th>\n",
              "      <td>21.0491</td>\n",
              "      <td>105.8831</td>\n",
              "      <td>39.379204</td>\n",
              "      <td>197.524994</td>\n",
              "      <td>102181.0</td>\n",
              "      <td>78.663696</td>\n",
              "      <td>15.516100</td>\n",
              "      <td>2.77573</td>\n",
              "      <td>8.956062</td>\n",
              "      <td>10.830875</td>\n",
              "      <td>13.301438</td>\n",
              "      <td>13.640625</td>\n",
              "      <td>27.722601</td>\n",
              "      <td>1828.880005</td>\n",
              "      <td>4</td>\n",
              "    </tr>\n",
              "    <tr>\n",
              "      <th>4</th>\n",
              "      <td>21.0491</td>\n",
              "      <td>105.8831</td>\n",
              "      <td>39.901879</td>\n",
              "      <td>287.825012</td>\n",
              "      <td>102072.0</td>\n",
              "      <td>75.866699</td>\n",
              "      <td>17.658199</td>\n",
              "      <td>3.12869</td>\n",
              "      <td>12.547000</td>\n",
              "      <td>12.891687</td>\n",
              "      <td>15.638813</td>\n",
              "      <td>12.034750</td>\n",
              "      <td>27.722601</td>\n",
              "      <td>1828.880005</td>\n",
              "      <td>4</td>\n",
              "    </tr>\n",
              "    <tr>\n",
              "      <th>...</th>\n",
              "      <td>...</td>\n",
              "      <td>...</td>\n",
              "      <td>...</td>\n",
              "      <td>...</td>\n",
              "      <td>...</td>\n",
              "      <td>...</td>\n",
              "      <td>...</td>\n",
              "      <td>...</td>\n",
              "      <td>...</td>\n",
              "      <td>...</td>\n",
              "      <td>...</td>\n",
              "      <td>...</td>\n",
              "      <td>...</td>\n",
              "      <td>...</td>\n",
              "      <td>...</td>\n",
              "    </tr>\n",
              "    <tr>\n",
              "      <th>5470</th>\n",
              "      <td>21.0197</td>\n",
              "      <td>105.8147</td>\n",
              "      <td>18.995833</td>\n",
              "      <td>454.903015</td>\n",
              "      <td>102068.0</td>\n",
              "      <td>43.484299</td>\n",
              "      <td>16.768499</td>\n",
              "      <td>3.66034</td>\n",
              "      <td>7.437375</td>\n",
              "      <td>5.100375</td>\n",
              "      <td>3.930875</td>\n",
              "      <td>6.508750</td>\n",
              "      <td>442.738007</td>\n",
              "      <td>4993.080078</td>\n",
              "      <td>5</td>\n",
              "    </tr>\n",
              "    <tr>\n",
              "      <th>5471</th>\n",
              "      <td>21.0197</td>\n",
              "      <td>105.8147</td>\n",
              "      <td>23.241667</td>\n",
              "      <td>400.079010</td>\n",
              "      <td>101755.0</td>\n",
              "      <td>49.469700</td>\n",
              "      <td>19.499901</td>\n",
              "      <td>2.41066</td>\n",
              "      <td>13.452063</td>\n",
              "      <td>12.091188</td>\n",
              "      <td>5.180625</td>\n",
              "      <td>9.206437</td>\n",
              "      <td>442.738007</td>\n",
              "      <td>4993.080078</td>\n",
              "      <td>5</td>\n",
              "    </tr>\n",
              "    <tr>\n",
              "      <th>5472</th>\n",
              "      <td>21.0197</td>\n",
              "      <td>105.8147</td>\n",
              "      <td>16.816667</td>\n",
              "      <td>326.407013</td>\n",
              "      <td>101510.0</td>\n",
              "      <td>66.391800</td>\n",
              "      <td>22.555500</td>\n",
              "      <td>1.45771</td>\n",
              "      <td>17.722375</td>\n",
              "      <td>16.551500</td>\n",
              "      <td>13.518500</td>\n",
              "      <td>18.223813</td>\n",
              "      <td>442.738007</td>\n",
              "      <td>4993.080078</td>\n",
              "      <td>5</td>\n",
              "    </tr>\n",
              "    <tr>\n",
              "      <th>5473</th>\n",
              "      <td>21.0197</td>\n",
              "      <td>105.8147</td>\n",
              "      <td>21.595833</td>\n",
              "      <td>468.182007</td>\n",
              "      <td>101796.0</td>\n",
              "      <td>64.951401</td>\n",
              "      <td>23.062800</td>\n",
              "      <td>4.10253</td>\n",
              "      <td>16.676687</td>\n",
              "      <td>14.273500</td>\n",
              "      <td>16.221062</td>\n",
              "      <td>18.177937</td>\n",
              "      <td>442.738007</td>\n",
              "      <td>4993.080078</td>\n",
              "      <td>5</td>\n",
              "    </tr>\n",
              "    <tr>\n",
              "      <th>5474</th>\n",
              "      <td>21.0197</td>\n",
              "      <td>105.8147</td>\n",
              "      <td>19.058333</td>\n",
              "      <td>403.809998</td>\n",
              "      <td>102328.0</td>\n",
              "      <td>56.802601</td>\n",
              "      <td>20.295401</td>\n",
              "      <td>4.08768</td>\n",
              "      <td>12.042750</td>\n",
              "      <td>11.365063</td>\n",
              "      <td>11.604563</td>\n",
              "      <td>13.162625</td>\n",
              "      <td>442.738007</td>\n",
              "      <td>4993.080078</td>\n",
              "      <td>5</td>\n",
              "    </tr>\n",
              "  </tbody>\n",
              "</table>\n",
              "<p>5460 rows × 15 columns</p>\n",
              "</div>"
            ],
            "text/plain": [
              "          lat       lon        NO2  ...   pplt_dens    road_dens  cluster\n",
              "0     21.0491  105.8831   0.000000  ...   27.722601  1828.880005        4\n",
              "1     21.0491  105.8831   0.000000  ...   27.722601  1828.880005        4\n",
              "2     21.0491  105.8831  41.310400  ...   27.722601  1828.880005        4\n",
              "3     21.0491  105.8831  39.379204  ...   27.722601  1828.880005        4\n",
              "4     21.0491  105.8831  39.901879  ...   27.722601  1828.880005        4\n",
              "...       ...       ...        ...  ...         ...          ...      ...\n",
              "5470  21.0197  105.8147  18.995833  ...  442.738007  4993.080078        5\n",
              "5471  21.0197  105.8147  23.241667  ...  442.738007  4993.080078        5\n",
              "5472  21.0197  105.8147  16.816667  ...  442.738007  4993.080078        5\n",
              "5473  21.0197  105.8147  21.595833  ...  442.738007  4993.080078        5\n",
              "5474  21.0197  105.8147  19.058333  ...  442.738007  4993.080078        5\n",
              "\n",
              "[5460 rows x 15 columns]"
            ]
          },
          "metadata": {
            "tags": []
          },
          "execution_count": 23
        }
      ]
    },
    {
      "cell_type": "code",
      "metadata": {
        "colab": {
          "base_uri": "https://localhost:8080/"
        },
        "id": "ZvVQ4LZj2uho",
        "outputId": "4642042f-16c8-4b83-c50f-7b321a43eda4"
      },
      "source": [
        "# data[data.road_dens == 0.20432150338890406]\n",
        "# data[(data.pplt_dens == 0) & (data.road_dens == 0.020828745736930082)]\n",
        "# data[data.cluster == 2].iloc[1, -2]\n",
        "\n",
        "data['cluster'].unique()"
      ],
      "execution_count": null,
      "outputs": [
        {
          "output_type": "execute_result",
          "data": {
            "text/plain": [
              "array([4, 1, 2, 3, 0, 5], dtype=int32)"
            ]
          },
          "metadata": {
            "tags": []
          },
          "execution_count": 24
        }
      ]
    },
    {
      "cell_type": "code",
      "metadata": {
        "id": "LoLjnbpnPR5O"
      },
      "source": [
        "# Saving data without scale\n",
        "# data.to_csv('/content/drive/MyDrive/STUDYING/HK2 2020-2021/Modern Problems in Technology/data_processed_withoutscale.csv', index=False)\n",
        "\n",
        "# Saving data with scale\n",
        "# data.to_csv('/content/drive/MyDrive/STUDYING/HK2 2020-2021/Modern Problems in Technology/data_processed_withscale.csv', index=False)\n"
      ],
      "execution_count": null,
      "outputs": []
    },
    {
      "cell_type": "code",
      "metadata": {
        "id": "4diNqopi8ue2"
      },
      "source": [
        "# data.to_csv('/content/drive/MyDrive/STUDYING/HK2 2020-2021/Modern Problems in Technology/data_dropped_scaled.csv', index=False)"
      ],
      "execution_count": null,
      "outputs": []
    },
    {
      "cell_type": "markdown",
      "metadata": {
        "id": "W6DUSLYFeh7D"
      },
      "source": [
        "## Adding center column"
      ]
    },
    {
      "cell_type": "code",
      "metadata": {
        "id": "vgGhYimgraxN"
      },
      "source": [
        "# data.to_csv('/content/drive/MyDrive/STUDYING/HK2 2020-2021/Modern Problems in Technology/data_processed.csv', index=False)\n",
        "# df = pd.read_csv('/content/drive/MyDrive/STUDYING/HK2 2020-2021/Modern Problems in Technology/data_processed.csv')\n",
        "# # train_df.to_pickle('/content/drive/MyDrive/STUDYING/HK2 2020-2021/Modern Problems in Technology/train_withcenter.pkl')"
      ],
      "execution_count": null,
      "outputs": []
    },
    {
      "cell_type": "code",
      "metadata": {
        "id": "pQs9gQ5grjfw",
        "colab": {
          "base_uri": "https://localhost:8080/"
        },
        "outputId": "40f23a07-c0c3-4075-afef-367081da16be"
      },
      "source": [
        "centroids"
      ],
      "execution_count": null,
      "outputs": [
        {
          "output_type": "execute_result",
          "data": {
            "text/plain": [
              "array([[2.10234451e+01, 1.05836606e+02, 5.71862716e+02, 1.00094336e+05,\n",
              "        7.65178052e+01, 2.92033999e+01, 4.36689221e+00, 2.43413734e+01,\n",
              "        2.37592636e+01, 2.40050249e+01, 2.41647181e+01, 2.30776211e+02,\n",
              "        5.30063662e+03],\n",
              "       [2.10686577e+01, 1.05907453e+02, 5.29748187e+02, 1.00102690e+05,\n",
              "        7.79432791e+01, 2.86857459e+01, 4.36134798e+00, 2.40502113e+01,\n",
              "        2.36135443e+01, 2.37266056e+01, 2.38542049e+01, 4.19400156e+01,\n",
              "        1.42176607e+03],\n",
              "       [1.90706201e+01, 1.06688670e+02, 4.15401175e+02, 1.01474666e+05,\n",
              "        7.54628461e+01, 2.24355250e+01, 3.50052499e+00, 1.73417985e+01,\n",
              "        1.72663508e+01, 1.72581791e+01, 1.73808903e+01, 1.93285697e+02,\n",
              "        3.79628280e+03],\n",
              "       [1.86970800e+01, 1.06831761e+02, 4.40970722e+02, 1.00209865e+05,\n",
              "        7.83647579e+01, 2.84683991e+01, 3.90549926e+00, 2.40520468e+01,\n",
              "        2.35585892e+01, 2.36701251e+01, 2.39096056e+01, 1.92365373e+02,\n",
              "        3.58629955e+03],\n",
              "       [2.10636207e+01, 1.05923012e+02, 4.16315372e+02, 1.01564212e+05,\n",
              "        7.04447342e+01, 2.12556963e+01, 3.55184095e+00, 1.50177454e+01,\n",
              "        1.48452066e+01, 1.48330515e+01, 1.50202183e+01, 4.18211266e+01,\n",
              "        1.41560011e+03],\n",
              "       [2.10179431e+01, 1.05834946e+02, 4.43636194e+02, 1.01547889e+05,\n",
              "        6.72753420e+01, 2.19387099e+01, 3.49924179e+00, 1.53628920e+01,\n",
              "        1.50665349e+01, 1.53056419e+01, 1.57177239e+01, 2.31949990e+02,\n",
              "        5.61388414e+03]])"
            ]
          },
          "metadata": {
            "tags": []
          },
          "execution_count": 33
        }
      ]
    },
    {
      "cell_type": "code",
      "metadata": {
        "colab": {
          "base_uri": "https://localhost:8080/"
        },
        "id": "bX2tKBut10qQ",
        "outputId": "a7f517c5-27d6-437b-eb7c-a8809a595d61"
      },
      "source": [
        "cluster2center = {k: v for k, v in enumerate(centroids)}\n",
        "cluster2center.keys()"
      ],
      "execution_count": null,
      "outputs": [
        {
          "output_type": "execute_result",
          "data": {
            "text/plain": [
              "dict_keys([0, 1, 2, 3, 4, 5])"
            ]
          },
          "metadata": {
            "tags": []
          },
          "execution_count": 47
        }
      ]
    },
    {
      "cell_type": "code",
      "metadata": {
        "colab": {
          "base_uri": "https://localhost:8080/",
          "height": 235
        },
        "id": "ht_lGTCs2dWH",
        "outputId": "a0dc1812-0520-41d1-93d1-f7860456339f"
      },
      "source": [
        "# cluster_center = pd.DataFrame(centroids)\n",
        "# cluster_center['cluter'] = cluster2center.keys()\n",
        "# cluster_center"
      ],
      "execution_count": null,
      "outputs": [
        {
          "output_type": "execute_result",
          "data": {
            "text/html": [
              "<div>\n",
              "<style scoped>\n",
              "    .dataframe tbody tr th:only-of-type {\n",
              "        vertical-align: middle;\n",
              "    }\n",
              "\n",
              "    .dataframe tbody tr th {\n",
              "        vertical-align: top;\n",
              "    }\n",
              "\n",
              "    .dataframe thead th {\n",
              "        text-align: right;\n",
              "    }\n",
              "</style>\n",
              "<table border=\"1\" class=\"dataframe\">\n",
              "  <thead>\n",
              "    <tr style=\"text-align: right;\">\n",
              "      <th></th>\n",
              "      <th>0</th>\n",
              "      <th>1</th>\n",
              "      <th>2</th>\n",
              "      <th>3</th>\n",
              "      <th>4</th>\n",
              "      <th>5</th>\n",
              "      <th>6</th>\n",
              "      <th>7</th>\n",
              "      <th>8</th>\n",
              "      <th>9</th>\n",
              "      <th>10</th>\n",
              "      <th>11</th>\n",
              "      <th>12</th>\n",
              "      <th>cluter</th>\n",
              "    </tr>\n",
              "  </thead>\n",
              "  <tbody>\n",
              "    <tr>\n",
              "      <th>0</th>\n",
              "      <td>21.023445</td>\n",
              "      <td>105.836606</td>\n",
              "      <td>571.862716</td>\n",
              "      <td>100094.336010</td>\n",
              "      <td>76.517805</td>\n",
              "      <td>29.203400</td>\n",
              "      <td>4.366892</td>\n",
              "      <td>24.341373</td>\n",
              "      <td>23.759264</td>\n",
              "      <td>24.005025</td>\n",
              "      <td>24.164718</td>\n",
              "      <td>230.776211</td>\n",
              "      <td>5300.636624</td>\n",
              "      <td>0</td>\n",
              "    </tr>\n",
              "    <tr>\n",
              "      <th>1</th>\n",
              "      <td>21.068658</td>\n",
              "      <td>105.907453</td>\n",
              "      <td>529.748187</td>\n",
              "      <td>100102.689847</td>\n",
              "      <td>77.943279</td>\n",
              "      <td>28.685746</td>\n",
              "      <td>4.361348</td>\n",
              "      <td>24.050211</td>\n",
              "      <td>23.613544</td>\n",
              "      <td>23.726606</td>\n",
              "      <td>23.854205</td>\n",
              "      <td>41.940016</td>\n",
              "      <td>1421.766069</td>\n",
              "      <td>1</td>\n",
              "    </tr>\n",
              "    <tr>\n",
              "      <th>2</th>\n",
              "      <td>19.070620</td>\n",
              "      <td>106.688670</td>\n",
              "      <td>415.401175</td>\n",
              "      <td>101474.666320</td>\n",
              "      <td>75.462846</td>\n",
              "      <td>22.435525</td>\n",
              "      <td>3.500525</td>\n",
              "      <td>17.341798</td>\n",
              "      <td>17.266351</td>\n",
              "      <td>17.258179</td>\n",
              "      <td>17.380890</td>\n",
              "      <td>193.285697</td>\n",
              "      <td>3796.282797</td>\n",
              "      <td>2</td>\n",
              "    </tr>\n",
              "    <tr>\n",
              "      <th>3</th>\n",
              "      <td>18.697080</td>\n",
              "      <td>106.831761</td>\n",
              "      <td>440.970722</td>\n",
              "      <td>100209.864614</td>\n",
              "      <td>78.364758</td>\n",
              "      <td>28.468399</td>\n",
              "      <td>3.905499</td>\n",
              "      <td>24.052047</td>\n",
              "      <td>23.558589</td>\n",
              "      <td>23.670125</td>\n",
              "      <td>23.909606</td>\n",
              "      <td>192.365373</td>\n",
              "      <td>3586.299547</td>\n",
              "      <td>3</td>\n",
              "    </tr>\n",
              "    <tr>\n",
              "      <th>4</th>\n",
              "      <td>21.063621</td>\n",
              "      <td>105.923012</td>\n",
              "      <td>416.315372</td>\n",
              "      <td>101564.212009</td>\n",
              "      <td>70.444734</td>\n",
              "      <td>21.255696</td>\n",
              "      <td>3.551841</td>\n",
              "      <td>15.017745</td>\n",
              "      <td>14.845207</td>\n",
              "      <td>14.833051</td>\n",
              "      <td>15.020218</td>\n",
              "      <td>41.821127</td>\n",
              "      <td>1415.600110</td>\n",
              "      <td>4</td>\n",
              "    </tr>\n",
              "    <tr>\n",
              "      <th>5</th>\n",
              "      <td>21.017943</td>\n",
              "      <td>105.834946</td>\n",
              "      <td>443.636194</td>\n",
              "      <td>101547.889439</td>\n",
              "      <td>67.275342</td>\n",
              "      <td>21.938710</td>\n",
              "      <td>3.499242</td>\n",
              "      <td>15.362892</td>\n",
              "      <td>15.066535</td>\n",
              "      <td>15.305642</td>\n",
              "      <td>15.717724</td>\n",
              "      <td>231.949990</td>\n",
              "      <td>5613.884140</td>\n",
              "      <td>5</td>\n",
              "    </tr>\n",
              "  </tbody>\n",
              "</table>\n",
              "</div>"
            ],
            "text/plain": [
              "           0           1           2  ...          11           12  cluter\n",
              "0  21.023445  105.836606  571.862716  ...  230.776211  5300.636624       0\n",
              "1  21.068658  105.907453  529.748187  ...   41.940016  1421.766069       1\n",
              "2  19.070620  106.688670  415.401175  ...  193.285697  3796.282797       2\n",
              "3  18.697080  106.831761  440.970722  ...  192.365373  3586.299547       3\n",
              "4  21.063621  105.923012  416.315372  ...   41.821127  1415.600110       4\n",
              "5  21.017943  105.834946  443.636194  ...  231.949990  5613.884140       5\n",
              "\n",
              "[6 rows x 14 columns]"
            ]
          },
          "metadata": {
            "tags": []
          },
          "execution_count": 49
        }
      ]
    },
    {
      "cell_type": "code",
      "metadata": {
        "id": "qwYH2KXe3o-t"
      },
      "source": [
        "# cluster_center.to_csv('/content/drive/MyDrive/STUDYING/HK2 2020-2021/Modern Problems in Technology/cluster_center_nonscale_data.csv')"
      ],
      "execution_count": null,
      "outputs": []
    }
  ]
}